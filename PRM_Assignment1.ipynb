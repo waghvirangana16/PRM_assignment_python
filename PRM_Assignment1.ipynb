{
 "cells": [
  {
   "cell_type": "code",
   "execution_count": 37,
   "id": "a0e54492",
   "metadata": {},
   "outputs": [
    {
     "name": "stdout",
     "output_type": "stream",
     "text": [
      "Enter the elemets in list4\n",
      "enter a string element great\n",
      "enter a string element hello\n",
      "enter a string element hiyo\n",
      "enter a string element abc\n",
      "\n",
      "original list is  ['great', 'hello', 'hiyo', 'abc']\n",
      "\n",
      "sorted list is  ['great', 'abc', 'hello', 'hiyo']\n"
     ]
    }
   ],
   "source": [
    "n=int(input(\"Enter the elemets in list\"))\n",
    "for k in range(n):\n",
    "    element=input(\"enter a string element \").lower()\n",
    "    list.append(element)\n",
    "print(\"\\noriginal list is \",list) \n",
    "l1=[]\n",
    "while len(list)>0:\n",
    "    min=list[0]\n",
    "    for i in range(1,len(list)):\n",
    "        if ord(min[-2])>ord(list[i][-2]):\n",
    "            min=list[i]\n",
    "    l1.append(min)\n",
    "    list.remove(min)\n",
    "print(\"\\nsorted list is \",l1)"
   ]
  },
  {
   "cell_type": "code",
   "execution_count": 12,
   "id": "42e6e8ac",
   "metadata": {},
   "outputs": [
    {
     "name": "stdout",
     "output_type": "stream",
     "text": [
      "constructor is called\n",
      "Valid Traingle\n",
      "Valid Rectangle\n"
     ]
    }
   ],
   "source": [
    "class maths:\n",
    "    def __init__(self):\n",
    "        print(\"constructor is called\")\n",
    "    def validate_traingle(self,a,b,c):\n",
    "        self.a=a\n",
    "        self.b=b\n",
    "        self.c=c\n",
    "        if a+b>c and b+c>a and a+c>b:\n",
    "            print(\"Valid Traingle\")\n",
    "        else:\n",
    "            print(\"Vnvalid Traingle\")\n",
    "    def validate_rectangle(self,m,n,o,p):\n",
    "        self.m=m\n",
    "        self.n=n\n",
    "        self.o=o\n",
    "        self.p=p\n",
    "        if m==o and n==p:\n",
    "            print(\"Valid Rectangle\")\n",
    "        else:\n",
    "            print(\"Invalid Rectangle\")\n",
    "            \n",
    "        \n",
    "a=maths()\n",
    "a.validate_traingle(3,4,5)\n",
    "a.validate_rectangle(2,4,2,4)\n",
    "            \n",
    "        "
   ]
  },
  {
   "cell_type": "code",
   "execution_count": null,
   "id": "bf4a305a",
   "metadata": {},
   "outputs": [],
   "source": []
  }
 ],
 "metadata": {
  "kernelspec": {
   "display_name": "Python 3 (ipykernel)",
   "language": "python",
   "name": "python3"
  },
  "language_info": {
   "codemirror_mode": {
    "name": "ipython",
    "version": 3
   },
   "file_extension": ".py",
   "mimetype": "text/x-python",
   "name": "python",
   "nbconvert_exporter": "python",
   "pygments_lexer": "ipython3",
   "version": "3.9.12"
  }
 },
 "nbformat": 4,
 "nbformat_minor": 5
}
